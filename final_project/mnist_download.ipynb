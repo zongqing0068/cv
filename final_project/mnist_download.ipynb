{
 "cells": [
  {
   "cell_type": "markdown",
   "id": "bedbe52b",
   "metadata": {},
   "source": [
    "MNIST 数据集下载后有4个二进制 IDX 文件：\n",
    "\n",
    "```\n",
    "train-images-idx3-ubyte.gz:  training set images (9912422 bytes)\n",
    "train-labels-idx1-ubyte.gz:  training set labels (28881 bytes)\n",
    "t10k-images-idx3-ubyte.gz:   test set images (1648877 bytes)\n",
    "t10k-labels-idx1-ubyte.gz:   test set labels (4542 bytes)\n",
    "```"
   ]
  },
  {
   "cell_type": "markdown",
   "id": "9a8fb783",
   "metadata": {},
   "source": [
    "其中图像文件的数据格式为：\n",
    "```\n",
    "TRAINING SET IMAGE FILE (train-images-idx3-ubyte):\n",
    "[offset] [type]          [value]          [description] \n",
    "0000     32 bit integer  0x00000803(2051) magic number \n",
    "0004     32 bit integer  60000            number of images \n",
    "0008     32 bit integer  28               number of rows \n",
    "0012     32 bit integer  28               number of columns \n",
    "0016     unsigned byte   ??               pixel \n",
    "0017     unsigned byte   ??               pixel \n",
    "........ \n",
    "xxxx     unsigned byte   ??               pixel\n",
    "```"
   ]
  },
  {
   "cell_type": "markdown",
   "id": "57d844c8",
   "metadata": {},
   "source": [
    "文件头信息包含 4 个 unsinged int32 整型数据，分别是 魔数、图片数、图片宽度、图片长度。\n",
    "后面的数据是所有图像的像素的，每个byte一个像素点。图片的长宽都是 28，所以每张图片长度为 28*28。\n",
    "像素值取值范围是 0～255。\n",
    "\n",
    "可以使用 python 的 struct 模块读取二进制数据，将图像像素转为 numpy 矩阵，因而可以使用下面的函数解析图像数据："
   ]
  },
  {
   "cell_type": "code",
   "execution_count": 6,
   "id": "20e05058",
   "metadata": {},
   "outputs": [],
   "source": [
    "import struct\n",
    "import numpy as np\n",
    "\n",
    "def decode_idx3_ubyte(idx3_ubyte_file):\n",
    "    with open(idx3_ubyte_file, 'rb') as f:\n",
    "        print('解析文件：', idx3_ubyte_file)\n",
    "        fb_data = f.read()\n",
    "\n",
    "    offset = 0\n",
    "    fmt_header = '>iiii'    # 以大端法读取4个 unsinged int32\n",
    "    magic_number, num_images, num_rows, num_cols = struct.unpack_from(fmt_header, fb_data, offset)\n",
    "    print('魔数：{}，图片数：{}'.format(magic_number, num_images))\n",
    "    offset += struct.calcsize(fmt_header)\n",
    "    fmt_image = '>' + str(num_rows * num_cols) + 'B'\n",
    "\n",
    "    images = np.empty((num_images, num_rows, num_cols))\n",
    "    for i in range(num_images):\n",
    "        im = struct.unpack_from(fmt_image, fb_data, offset)\n",
    "        images[i] = np.array(im).reshape((num_rows, num_cols))\n",
    "        offset += struct.calcsize(fmt_image)\n",
    "    return images"
   ]
  },
  {
   "cell_type": "markdown",
   "id": "a39fda4f",
   "metadata": {},
   "source": [
    "标签数据文件的格式为：\n",
    "```\n",
    "TRAINING SET LABEL FILE (train-labels-idx1-ubyte):\n",
    "[offset] [type]          [value]          [description] \n",
    "0000     32 bit integer  0x00000801(2049) magic number (MSB first) \n",
    "0004     32 bit integer  60000            number of items \n",
    "0008     unsigned byte   ??               label \n",
    "0009     unsigned byte   ??               label \n",
    "........ \n",
    "xxxx     unsigned byte   ??               label\n",
    "```"
   ]
  },
  {
   "cell_type": "markdown",
   "id": "0bead841",
   "metadata": {},
   "source": [
    "文件头是两个 unsinged int32 整型数据：魔数和标签数，后面每一个 byte 是一个标签值，标签值为 0～9。同样使用 struct 读取："
   ]
  },
  {
   "cell_type": "code",
   "execution_count": 7,
   "id": "45ff300e",
   "metadata": {},
   "outputs": [],
   "source": [
    "import struct\n",
    "\n",
    "def decode_idx1_ubyte(idx1_ubyte_file):\n",
    "    with open(idx1_ubyte_file, 'rb') as f:\n",
    "        print('解析文件：', idx1_ubyte_file)\n",
    "        fb_data = f.read()\n",
    "\n",
    "    offset = 0\n",
    "    fmt_header = '>ii'  # 以大端法读取两个 unsinged int32\n",
    "    magic_number, label_num = struct.unpack_from(fmt_header, fb_data, offset)\n",
    "    print('魔数：{}，标签数：{}'.format(magic_number, label_num))\n",
    "    offset += struct.calcsize(fmt_header)\n",
    "    labels = []\n",
    "\n",
    "    fmt_label = '>B'    # 每次读取一个 byte\n",
    "    for i in range(label_num):\n",
    "        labels.append(struct.unpack_from(fmt_label, fb_data, offset)[0])\n",
    "        offset += struct.calcsize(fmt_label)\n",
    "    return labels"
   ]
  },
  {
   "cell_type": "markdown",
   "id": "14b880f6",
   "metadata": {},
   "source": [
    "解析出了图像像素和标签值后，就可以使用 cv2 模块将像素矩阵保存为图像文件，根据标签值保存在不同的目录下："
   ]
  },
  {
   "cell_type": "code",
   "execution_count": 8,
   "id": "1fa72439",
   "metadata": {},
   "outputs": [],
   "source": [
    "import gzip\n",
    "import numpy as np\n",
    "import os\n",
    "import cv2     # conda install -c conda-forge opencv\n",
    "\n",
    "def check_folder(folder):\n",
    "    \"\"\"检查文件文件夹是否存在，不存在则创建\"\"\"\n",
    "    if not os.path.exists(folder):\n",
    "        os.makedirs(folder)\n",
    "        print(folder)\n",
    "    else:\n",
    "        if not os.path.isdir(folder):\n",
    "            os.mkdir(folder)\n",
    "\n",
    "\n",
    "def export_img(exp_dir, img_ubyte, lable_ubyte):\n",
    "    \"\"\"\n",
    "    生成数据集\n",
    "    \"\"\"\n",
    "    check_folder(exp_dir)\n",
    "    images = decode_idx3_ubyte(img_ubyte)\n",
    "    labels = decode_idx1_ubyte(lable_ubyte)\n",
    "\n",
    "    nums = len(labels)\n",
    "    for i in range(nums):\n",
    "        img_dir = os.path.join(exp_dir, str(labels[i]))\n",
    "        check_folder(img_dir)\n",
    "        img_file = os.path.join(img_dir, str(i)+'.png')\n",
    "        imarr = images[i]\n",
    "        cv2.imwrite(img_file, imarr)\n",
    "\n",
    "\n",
    "def parser_mnist_data(data_dir):\n",
    "\n",
    "    train_dir = os.path.join(data_dir, 'train')\n",
    "    train_img_ubyte = os.path.join(data_dir, 'train-images-idx3-ubyte')\n",
    "    train_label_ubyte = os.path.join(data_dir, 'train-labels-idx1-ubyte')\n",
    "    export_img(train_dir, train_img_ubyte, train_label_ubyte)\n",
    "\n",
    "    test_dir = os.path.join(data_dir, 'test')\n",
    "    test_img_ubyte = os.path.join(data_dir, 't10k-images-idx3-ubyte')\n",
    "    test_label_ubyte = os.path.join(data_dir, 't10k-labels-idx1-ubyte')\n",
    "    export_img(test_dir, test_img_ubyte, test_label_ubyte)\n",
    "\n",
    "\n",
    "if __name__ == '__main__':\n",
    "    data_dir = 'mnist_data/'   # 会在ipynb的同一层目录下创建该文件夹\n",
    "    \n",
    "    import requests\n",
    "    \n",
    "    url_list = [\"http://yann.lecun.com/exdb/mnist/train-images-idx3-ubyte.gz\",\n",
    "               \"http://yann.lecun.com/exdb/mnist/train-labels-idx1-ubyte.gz\",\n",
    "               \"http://yann.lecun.com/exdb/mnist/t10k-images-idx3-ubyte.gz\",\n",
    "               \"http://yann.lecun.com/exdb/mnist/t10k-labels-idx1-ubyte.gz\"]\n",
    "    for url in url_list:\n",
    "        gz_name = url.split('/')[-1]\n",
    "        name = gz_name.split('.')[0]\n",
    "        if not os.path.exists(gz_name) and not os.path.exists(name):\n",
    "            r = requests.get(url, allow_redirects=True)\n",
    "            open(data_dir + gz_name, 'wb').write(r.content)\n",
    "        if not os.path.exists(name):\n",
    "            os.system('gunzip ' + data_dir + gz_name)\n",
    "            \n",
    "    parser_mnist_data(data_dir)"
   ]
  },
  {
   "cell_type": "markdown",
   "id": "2579aa58",
   "metadata": {},
   "source": [
    "最后得到具有如下目录结构的数据集，进入对应的目录，可以查看每张图片\n",
    "```\n",
    "mnist_data/\n",
    "    |----train/\n",
    "        |----0/\n",
    "            |----0.png\n",
    "        |----1/\n",
    "            |----1.png\n",
    "...\n",
    "    |----test/\n",
    "...\n",
    "```"
   ]
  },
  {
   "cell_type": "markdown",
   "id": "6be555a7",
   "metadata": {},
   "source": [
    "也可以读取之后转成numpy数组并打印到屏幕"
   ]
  },
  {
   "cell_type": "code",
   "execution_count": 11,
   "id": "cb0a99fd",
   "metadata": {
    "pycharm": {
     "name": "#%%\n"
    }
   },
   "outputs": [
    {
     "name": "stdout",
     "output_type": "stream",
     "text": [
      "<class 'numpy.ndarray'>\n",
      "(28, 28)\n",
      "[[  0   0   0   0   0   0   0   0   0   0   0   0   0   0   0   0   0   0   0   0   0   0   0   0   0   0   0   0]\n",
      " [  0   0   0   0   0   0   0   0   0   0   0   0   0   0   0   0   0   0   0   0   0   0   0   0   0   0   0   0]\n",
      " [  0   0   0   0   0   0   0   0   0   0   0   0   0   0   0   0   0   0   0   0   0   0   0   0   0   0   0   0]\n",
      " [  0   0   0   0   0   0   0   0   0   0   0   0   0   0   0   0   0   0   0   0   0   0   0   0   0   0   0   0]\n",
      " [  0   0   0   0   0   0   0   0   0   0   0   0   0   0   0  51 159 253 159  50   0   0   0   0   0   0   0   0]\n",
      " [  0   0   0   0   0   0   0   0   0   0   0   0   0   0  48 238 252 252 252 237   0   0   0   0   0   0   0   0]\n",
      " [  0   0   0   0   0   0   0   0   0   0   0   0   0  54 227 253 252 239 233 252  57   6   0   0   0   0   0   0]\n",
      " [  0   0   0   0   0   0   0   0   0   0   0  10  60 224 252 253 252 202  84 252 253 122   0   0   0   0   0   0]\n",
      " [  0   0   0   0   0   0   0   0   0   0   0 163 252 252 252 253 252 252  96 189 253 167   0   0   0   0   0   0]\n",
      " [  0   0   0   0   0   0   0   0   0   0  51 238 253 253 190 114 253 228  47  79 255 168   0   0   0   0   0   0]\n",
      " [  0   0   0   0   0   0   0   0   0  48 238 252 252 179  12  75 121  21   0   0 253 243  50   0   0   0   0   0]\n",
      " [  0   0   0   0   0   0   0   0  38 165 253 233 208  84   0   0   0   0   0   0 253 252 165   0   0   0   0   0]\n",
      " [  0   0   0   0   0   0   0   7 178 252 240  71  19  28   0   0   0   0   0   0 253 252 195   0   0   0   0   0]\n",
      " [  0   0   0   0   0   0   0  57 252 252  63   0   0   0   0   0   0   0   0   0 253 252 195   0   0   0   0   0]\n",
      " [  0   0   0   0   0   0   0 198 253 190   0   0   0   0   0   0   0   0   0   0 255 253 196   0   0   0   0   0]\n",
      " [  0   0   0   0   0   0  76 246 252 112   0   0   0   0   0   0   0   0   0   0 253 252 148   0   0   0   0   0]\n",
      " [  0   0   0   0   0   0  85 252 230  25   0   0   0   0   0   0   0   0   7 135 253 186  12   0   0   0   0   0]\n",
      " [  0   0   0   0   0   0  85 252 223   0   0   0   0   0   0   0   0   7 131 252 225  71   0   0   0   0   0   0]\n",
      " [  0   0   0   0   0   0  85 252 145   0   0   0   0   0   0   0  48 165 252 173   0   0   0   0   0   0   0   0]\n",
      " [  0   0   0   0   0   0  86 253 225   0   0   0   0   0   0 114 238 253 162   0   0   0   0   0   0   0   0   0]\n",
      " [  0   0   0   0   0   0  85 252 249 146  48  29  85 178 225 253 223 167  56   0   0   0   0   0   0   0   0   0]\n",
      " [  0   0   0   0   0   0  85 252 252 252 229 215 252 252 252 196 130   0   0   0   0   0   0   0   0   0   0   0]\n",
      " [  0   0   0   0   0   0  28 199 252 252 253 252 252 233 145   0   0   0   0   0   0   0   0   0   0   0   0   0]\n",
      " [  0   0   0   0   0   0   0  25 128 252 253 252 141  37   0   0   0   0   0   0   0   0   0   0   0   0   0   0]\n",
      " [  0   0   0   0   0   0   0   0   0   0   0   0   0   0   0   0   0   0   0   0   0   0   0   0   0   0   0   0]\n",
      " [  0   0   0   0   0   0   0   0   0   0   0   0   0   0   0   0   0   0   0   0   0   0   0   0   0   0   0   0]\n",
      " [  0   0   0   0   0   0   0   0   0   0   0   0   0   0   0   0   0   0   0   0   0   0   0   0   0   0   0   0]\n",
      " [  0   0   0   0   0   0   0   0   0   0   0   0   0   0   0   0   0   0   0   0   0   0   0   0   0   0   0   0]]\n"
     ]
    },
    {
     "data": {
      "text/plain": "<Figure size 640x480 with 10 Axes>",
      "image/png": "[encoded data removed]"
     },
     "metadata": {},
     "output_type": "display_data"
    }
   ],
   "source": [
    "import os\n",
    "import struct\n",
    "import numpy as np\n",
    "\n",
    "path = 'mnist_data/'\n",
    "\n",
    "def load_mnist(path, kind='train'):\n",
    "    \"\"\"Load MNIST data from `path`\"\"\"\n",
    "    labels_path = os.path.join(path,\n",
    "                               '%s-labels-idx1-ubyte'\n",
    "                               % kind)\n",
    "    images_path = os.path.join(path,\n",
    "                               '%s-images-idx3-ubyte'\n",
    "                               % kind)\n",
    "    with open(labels_path, 'rb') as lbpath:\n",
    "        magic, n = struct.unpack('>II',\n",
    "                                 lbpath.read(8))\n",
    "        labels = np.fromfile(lbpath,\n",
    "                             dtype=np.uint8)\n",
    "\n",
    "    with open(images_path, 'rb') as imgpath:\n",
    "        magic, num, rows, cols = struct.unpack('>IIII',\n",
    "                                               imgpath.read(16))\n",
    "        images = np.fromfile(imgpath,\n",
    "                             dtype=np.uint8).reshape(len(labels), 784)\n",
    "\n",
    "    return images, labels\n",
    "\n",
    "import matplotlib.pyplot as plt\n",
    "\n",
    "fig, ax = plt.subplots(\n",
    "    nrows=2,\n",
    "    ncols=5,\n",
    "    sharex=True,\n",
    "    sharey=True, )\n",
    "\n",
    "ax = ax.flatten()\n",
    "\n",
    "X_train, Y_train = load_mnist(path)\n",
    "\n",
    "img = X_train[Y_train == 0][0].reshape(28, 28)  # 每个数字取第一张图片\n",
    "\n",
    "print(type(img))  # <class 'numpy.ndarray'>\n",
    "print(img.shape)  # (28, 28)\n",
    "np.set_printoptions(linewidth=400)\n",
    "print(img)       # 打印灰度值\n",
    "\n",
    "for i in range(10):\n",
    "    img = X_train[Y_train == i][0].reshape(28, 28)  # 每个数字取一张\n",
    "    ax[i].imshow(img, cmap='Greys', interpolation='nearest')\n",
    "\n",
    "ax[0].set_xticks([])\n",
    "ax[0].set_yticks([])\n",
    "plt.tight_layout()\n",
    "plt.show()\n",
    "\n",
    "    "
   ]
  }
 ],
 "metadata": {
  "kernelspec": {
   "display_name": "Python 3 (ipykernel)",
   "language": "python",
   "name": "python3"
  },
  "language_info": {
   "codemirror_mode": {
    "name": "ipython",
    "version": 3
   },
   "file_extension": ".py",
   "mimetype": "text/x-python",
   "name": "python",
   "nbconvert_exporter": "python",
   "pygments_lexer": "ipython3",
   "version": "3.9.16"
  }
 },
 "nbformat": 4,
 "nbformat_minor": 5
}